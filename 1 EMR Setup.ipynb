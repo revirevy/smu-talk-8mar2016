{
 "cells": [
  {
   "cell_type": "markdown",
   "metadata": {
    "collapsed": true,
    "slideshow": {
     "slide_type": "slide"
    }
   },
   "source": [
    "# EMR Hands-On Setup\n",
    "\n",
    "* You will need your AWS Access Key ID and Secret Access Key\n",
    "* You will need to have a default SSH key pair configured in AWS"
   ]
  },
  {
   "cell_type": "markdown",
   "metadata": {
    "slideshow": {
     "slide_type": "slide"
    }
   },
   "source": [
    "# Step 1\n",
    "\n",
    "SSH into an EC2 instance that I have prepared\n",
    "\n",
    "````$ ssh smu@ip````\n",
    "\n",
    "Password is ..."
   ]
  },
  {
   "cell_type": "markdown",
   "metadata": {
    "slideshow": {
     "slide_type": "slide"
    }
   },
   "source": [
    "# Step 2\n",
    "\n",
    "Export your **AWS credentials**, **Key Pair** and run my **setup.sh** script to create an EMR cluster of 1 Master + 2 Slaves using c3.xlarge instance type.\n",
    "\n",
    "The script will use Spot instances. The max bid price (Default is $0.01 above current spot price) can be configured in `conf/config`.\n",
    "\n",
    "<font style=\"font-size: 80%;\">\n",
    "````\n",
    "$ export AWS_SECRET_ACCESS_KEY=<AWS_SECRET_ACCESS_KEY>\n",
    "$ export AWS_ACCESS_KEY_ID=<AWS_ACCESS_KEY_ID>\n",
    "$ export AWS_KEY_PAIR_NAME=<YOUR_AWS_KEY_PAIR_TO_USE>\n",
    "\n",
    "$ cd smu-talk-8mar2016/bin\n",
    "$ ./setup.sh\n",
    "\n",
    "````\n",
    "</font>"
   ]
  },
  {
   "cell_type": "markdown",
   "metadata": {
    "slideshow": {
     "slide_type": "slide"
    }
   },
   "source": [
    "# Step 3\n",
    "\n",
    "Go to your AWS Web Console and look at the EMR cluster status and note down the Master public DNS name.\n",
    "\n",
    "![](images/Screen Shot 2016-03-07 at 10.02.20 am.png)"
   ]
  },
  {
   "cell_type": "markdown",
   "metadata": {
    "slideshow": {
     "slide_type": "slide"
    }
   },
   "source": [
    "# Step 4\n",
    "\n",
    "Configure your browser by enabling the web connection using a proxy. Follow the AWS instructions \"Enable Web Connection\".\n",
    "\n",
    "![](images/Screen Shot 2016-03-07 at 10.02.20 am.png)\n",
    "\n",
    "After configuring, you will be able to view the various Hadoop services. Click on Resource Manager to view YARN resources.\n",
    "\n",
    "![](images/Screen Shot 2016-03-07 at 10.17.52 am.png)\n"
   ]
  },
  {
   "cell_type": "markdown",
   "metadata": {
    "slideshow": {
     "slide_type": "slide"
    }
   },
   "source": [
    "# Step 5\n",
    "\n",
    "Once the cluster is up (takes up to 10mins), login to master node\n",
    "\n",
    "````\n",
    "$ ssh hadoop@<MASTER_PUBLIC_DNS>\n",
    "````\n",
    "\n",
    "And run Jupyter:\n",
    "````\n",
    "$ ./start-jupyter.sh \n",
    "[I 02:20:23.770 NotebookApp] Serving notebooks from local directory: /home/hadoop/smu-talk-8mar2016\n",
    "[I 02:20:23.770 NotebookApp] 0 active kernels \n",
    "[I 02:20:23.770 NotebookApp] The Jupyter Notebook is running at: https://0.0.0.0:8888/\n",
    "[I 02:20:23.770 NotebookApp] Use Control-C to stop this server and shut down all kernels (twice to skip confirmation).\n",
    "````\n",
    "\n",
    "You can now access Jupyter on `https://<MASTER_PUBLIC_DNS>:8888`. Password is sfvhxj7d"
   ]
  }
 ],
 "metadata": {
  "celltoolbar": "Slideshow",
  "kernelspec": {
   "display_name": "Python 2",
   "language": "python",
   "name": "python2"
  },
  "language_info": {
   "codemirror_mode": {
    "name": "ipython",
    "version": 2
   },
   "file_extension": ".py",
   "mimetype": "text/x-python",
   "name": "python",
   "nbconvert_exporter": "python",
   "pygments_lexer": "ipython2",
   "version": "2.7.11"
  }
 },
 "nbformat": 4,
 "nbformat_minor": 0
}
