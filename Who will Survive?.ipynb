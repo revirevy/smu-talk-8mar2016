{
 "cells": [
  {
   "cell_type": "markdown",
   "metadata": {},
   "source": [
    "![Lifeboat](http://titanicwiki.com/wp-content/uploads/2012/03/lifeboat-around-Titanic.jpg)"
   ]
  },
  {
   "cell_type": "code",
   "execution_count": 1,
   "metadata": {
    "collapsed": false
   },
   "outputs": [
    {
     "data": {
      "text/plain": [
       "<pyspark.context.SparkContext at 0x10551f210>"
      ]
     },
     "execution_count": 1,
     "metadata": {},
     "output_type": "execute_result"
    }
   ],
   "source": [
    "import os\n",
    "os.environ['PYSPARK_SUBMIT_ARGS'] = \"--packages com.databricks:spark-csv_2.10:1.3.0 pyspark-shell\"\n",
    "\n",
    "from pyspark import SparkContext, SparkConf\n",
    "from pyspark.sql import SQLContext, HiveContext\n",
    "import py4j\n",
    "\n",
    "conf = SparkConf().setAppName(\"SparkJupyterTitanic\").setMaster(\"local[2]\")\n",
    "sc = SparkContext(conf=conf)\n",
    "\n",
    "try:\n",
    "    # Try to access HiveConf, it will raise exception if Hive is not added\n",
    "    sc._jvm.org.apache.hadoop.hive.conf.HiveConf()\n",
    "    sqlContext = HiveContext(sc)\n",
    "except py4j.protocol.Py4JError:\n",
    "    sqlContext = SQLContext(sc)\n",
    "except TypeError:\n",
    "    sqlContext = SQLContext(sc)\n",
    "sc"
   ]
  },
  {
   "cell_type": "code",
   "execution_count": 2,
   "metadata": {
    "collapsed": true
   },
   "outputs": [],
   "source": [
    "csv = '/Users/ltsai/Downloads/titanic3.csv'"
   ]
  },
  {
   "cell_type": "code",
   "execution_count": 3,
   "metadata": {
    "collapsed": false
   },
   "outputs": [],
   "source": [
    "from pyspark.sql.types import *\n",
    "customSchema = StructType([StructField('pclass', StringType(), True),\n",
    "                           StructField('survived', IntegerType(), True),\n",
    "                           StructField('name', StringType(), True),\n",
    "                           StructField('sex', StringType(), True),\n",
    "                           StructField('age', StringType(), True),\n",
    "                           StructField('sibsp', IntegerType(), True),\n",
    "                           StructField('parch', IntegerType(), True),\n",
    "                           StructField('ticket', StringType(), True),\n",
    "                           StructField('fare', FloatType(), True),\n",
    "                           StructField('cabin', StringType(), True),\n",
    "                           StructField('embarked', StringType(), True),\n",
    "                           StructField('boat', StringType(), True),\n",
    "                           StructField('body', StringType(), True),\n",
    "                           StructField('home.dest', StringType(), True)])\n",
    "df = sqlContext.read.format('com.databricks.spark.csv'). \\\n",
    "        options(header='true', treatEmptyValuesAsNulls='true'). \\\n",
    "        load(csv, schema = customSchema)\n",
    "df.registerTempTable(\"passengers\")\n",
    "sqlContext.cacheTable(\"passengers\") "
   ]
  },
  {
   "cell_type": "code",
   "execution_count": 4,
   "metadata": {
    "collapsed": false
   },
   "outputs": [
    {
     "data": {
      "text/plain": [
       "(1036, 273)"
      ]
     },
     "execution_count": 4,
     "metadata": {},
     "output_type": "execute_result"
    }
   ],
   "source": [
    "train_df, test_df = df.select(\"survived\", \"pclass\", \"sibsp\", \"parch\").randomSplit([0.8, 0.2])\n",
    "train_df.count(),test_df.count()"
   ]
  },
  {
   "cell_type": "code",
   "execution_count": 5,
   "metadata": {
    "collapsed": false
   },
   "outputs": [],
   "source": [
    "from pyspark.sql import Row\n",
    "from pyspark.mllib.linalg import Vectors\n",
    "\n",
    "ntrain = train_df.map(lambda x: Row(label = float(x[0]) \\\n",
    "         ,features = Vectors.dense(x[1:]))).toDF().cache() \n",
    "ntest = test_df.map(lambda x: Row(features = Vectors.dense(x[1:]))).toDF()"
   ]
  },
  {
   "cell_type": "code",
   "execution_count": 6,
   "metadata": {
    "collapsed": false
   },
   "outputs": [],
   "source": [
    "from pyspark.ml.classification import LogisticRegression\n",
    "lr = LogisticRegression(maxIter=50)"
   ]
  },
  {
   "cell_type": "code",
   "execution_count": 7,
   "metadata": {
    "collapsed": false
   },
   "outputs": [],
   "source": [
    "model = lr.fit(ntrain)"
   ]
  },
  {
   "cell_type": "code",
   "execution_count": 8,
   "metadata": {
    "collapsed": false
   },
   "outputs": [
    {
     "name": "stderr",
     "output_type": "stream",
     "text": [
      "/Users/ltsai/Documents/workspace/spark-1.6.0-bin-hadoop2.6/python/pyspark/ml/classification.py:207: UserWarning: weights is deprecated. Use coefficients instead.\n",
      "  warnings.warn(\"weights is deprecated. Use coefficients instead.\")\n"
     ]
    }
   ],
   "source": [
    "pred = model.transform(ntest)"
   ]
  },
  {
   "cell_type": "code",
   "execution_count": 9,
   "metadata": {
    "collapsed": false
   },
   "outputs": [
    {
     "data": {
      "text/plain": [
       "0.7070707070707071"
      ]
     },
     "execution_count": 9,
     "metadata": {},
     "output_type": "execute_result"
    }
   ],
   "source": [
    "pred.where(\"prediction = 1.0\").count()/float(test_df.where(\"survived=1\").count())"
   ]
  },
  {
   "cell_type": "code",
   "execution_count": 10,
   "metadata": {
    "collapsed": true
   },
   "outputs": [],
   "source": [
    "sc.stop()"
   ]
  }
 ],
 "metadata": {
  "kernelspec": {
   "display_name": "Spark 1.6.0 (Python 2.7.11)",
   "language": "python",
   "name": "pyspark"
  },
  "language_info": {
   "codemirror_mode": {
    "name": "ipython",
    "version": 2
   },
   "file_extension": ".py",
   "mimetype": "text/x-python",
   "name": "python",
   "nbconvert_exporter": "python",
   "pygments_lexer": "ipython2",
   "version": "2.7.11"
  }
 },
 "nbformat": 4,
 "nbformat_minor": 0
}
