{
 "cells": [
  {
   "cell_type": "code",
   "execution_count": 2,
   "metadata": {
    "collapsed": false
   },
   "outputs": [
    {
     "data": {
      "text/plain": [
       "<pyspark.context.SparkContext at 0x105872910>"
      ]
     },
     "execution_count": 2,
     "metadata": {},
     "output_type": "execute_result"
    }
   ],
   "source": [
    "sc"
   ]
  },
  {
   "cell_type": "code",
   "execution_count": 2,
   "metadata": {
    "collapsed": true
   },
   "outputs": [],
   "source": [
    "csv = '/Users/ltsai/Downloads/titanic3.csv'"
   ]
  },
  {
   "cell_type": "markdown",
   "metadata": {},
   "source": [
    "[DataSet Information](http://biostat.mc.vanderbilt.edu/wiki/pub/Main/DataSets/titanic3info.txt)"
   ]
  },
  {
   "cell_type": "code",
   "execution_count": 6,
   "metadata": {
    "collapsed": false
   },
   "outputs": [
    {
     "data": {
      "text/plain": [
       "['\"pclass\",\"survived\",\"name\",\"sex\",\"age\",\"sibsp\",\"parch\",\"ticket\",\"fare\",\"cabin\",\"embarked\",\"boat\",\"body\",\"home.dest\"\\n',\n",
       " '1,1,\"Allen, Miss. Elisabeth Walton\",\"female\",29,0,0,\"24160\",211.3375,\"B5\",\"S\",\"2\",,\"St Louis, MO\"\\n',\n",
       " '1,1,\"Allison, Master. Hudson Trevor\",\"male\",0.92,1,2,\"113781\",151.5500,\"C22 C26\",\"S\",\"11\",,\"Montreal, PQ / Chesterville, ON\"\\n',\n",
       " '1,0,\"Allison, Miss. Helen Loraine\",\"female\",2,1,2,\"113781\",151.5500,\"C22 C26\",\"S\",,,\"Montreal, PQ / Chesterville, ON\"\\n',\n",
       " '1,0,\"Allison, Mr. Hudson Joshua Creighton\",\"male\",30,1,2,\"113781\",151.5500,\"C22 C26\",\"S\",,\"135\",\"Montreal, PQ / Chesterville, ON\"\\n',\n",
       " '1,0,\"Allison, Mrs. Hudson J C (Bessie Waldo Daniels)\",\"female\",25,1,2,\"113781\",151.5500,\"C22 C26\",\"S\",,,\"Montreal, PQ / Chesterville, ON\"\\n',\n",
       " '1,1,\"Anderson, Mr. Harry\",\"male\",48,0,0,\"19952\",26.5500,\"E12\",\"S\",\"3\",,\"New York, NY\"\\n',\n",
       " '1,1,\"Andrews, Miss. Kornelia Theodosia\",\"female\",63,1,0,\"13502\",77.9583,\"D7\",\"S\",\"10\",,\"Hudson, NY\"\\n',\n",
       " '1,0,\"Andrews, Mr. Thomas Jr\",\"male\",39,0,0,\"112050\",0.0000,\"A36\",\"S\",,,\"Belfast, NI\"\\n',\n",
       " '1,1,\"Appleton, Mrs. Edward Dale (Charlotte Lamson)\",\"female\",53,2,0,\"11769\",51.4792,\"C101\",\"S\",\"D\",,\"Bayside, Queens, NY\"\\n']"
      ]
     },
     "execution_count": 6,
     "metadata": {},
     "output_type": "execute_result"
    }
   ],
   "source": [
    "open(csv, 'r').readlines()[:10]"
   ]
  },
  {
   "cell_type": "code",
   "execution_count": 3,
   "metadata": {
    "collapsed": false
   },
   "outputs": [
    {
     "data": {
      "text/plain": [
       "1309"
      ]
     },
     "execution_count": 3,
     "metadata": {},
     "output_type": "execute_result"
    }
   ],
   "source": [
    "from pyspark.sql.types import *\n",
    "customSchema = StructType([StructField('pclass', StringType(), True),\n",
    "                           StructField('survived', IntegerType(), True),\n",
    "                           StructField('name', StringType(), True),\n",
    "                           StructField('sex', StringType(), True),\n",
    "                           StructField('age', StringType(), True),\n",
    "                           StructField('sibsp', IntegerType(), True),\n",
    "                           StructField('parch', IntegerType(), True),\n",
    "                           StructField('ticket', StringType(), True),\n",
    "                           StructField('fare', FloatType(), True),\n",
    "                           StructField('cabin', StringType(), True),\n",
    "                           StructField('embarked', StringType(), True),\n",
    "                           StructField('boat', StringType(), True),\n",
    "                           StructField('body', StringType(), True),\n",
    "                           StructField('home.dest', StringType(), True)])\n",
    "df = sqlContext.read.format('com.databricks.spark.csv'). \\\n",
    "        options(header='true', treatEmptyValuesAsNulls='true'). \\\n",
    "        load(csv, schema = customSchema).cache() \n",
    "df.count()"
   ]
  },
  {
   "cell_type": "code",
   "execution_count": 72,
   "metadata": {
    "collapsed": false
   },
   "outputs": [
    {
     "name": "stdout",
     "output_type": "stream",
     "text": [
      "root\n",
      " |-- pclass: string (nullable = true)\n",
      " |-- survived: integer (nullable = true)\n",
      " |-- name: string (nullable = true)\n",
      " |-- sex: string (nullable = true)\n",
      " |-- age: string (nullable = true)\n",
      " |-- sibsp: integer (nullable = true)\n",
      " |-- parch: integer (nullable = true)\n",
      " |-- ticket: string (nullable = true)\n",
      " |-- fare: float (nullable = true)\n",
      " |-- cabin: string (nullable = true)\n",
      " |-- embarked: string (nullable = true)\n",
      " |-- boat: string (nullable = true)\n",
      " |-- body: string (nullable = true)\n",
      " |-- home.dest: string (nullable = true)\n",
      "\n"
     ]
    }
   ],
   "source": [
    "df.printSchema()"
   ]
  },
  {
   "cell_type": "code",
   "execution_count": 4,
   "metadata": {
    "collapsed": false
   },
   "outputs": [],
   "source": [
    "df.registerTempTable(\"passengers\")"
   ]
  },
  {
   "cell_type": "code",
   "execution_count": 76,
   "metadata": {
    "collapsed": false
   },
   "outputs": [
    {
     "data": {
      "text/plain": [
       "[Row(_c0=29.851837320574163)]"
      ]
     },
     "execution_count": 76,
     "metadata": {},
     "output_type": "execute_result"
    }
   ],
   "source": [
    "qlContext.sql(\"select mean(age)from passengers\").collect()"
   ]
  },
  {
   "cell_type": "code",
   "execution_count": 72,
   "metadata": {
    "collapsed": false
   },
   "outputs": [],
   "source": [
    "survival = sqlContext.sql(\"select sex, count(survived) as cnt from passengers where survived=1 group by sex\").toPandas()"
   ]
  },
  {
   "cell_type": "code",
   "execution_count": 73,
   "metadata": {
    "collapsed": false
   },
   "outputs": [
    {
     "data": {
      "text/plain": [
       "<matplotlib.axes._subplots.AxesSubplot at 0x111747b90>"
      ]
     },
     "execution_count": 73,
     "metadata": {},
     "output_type": "execute_result"
    },
    {
     "data": {
      "image/png": "[encoded data removed]",
      "text/plain": [
       "<matplotlib.figure.Figure at 0x11134f9d0>"
      ]
     },
     "metadata": {},
     "output_type": "display_data"
    }
   ],
   "source": [
    "%matplotlib inline\n",
    "survival.plot(kind='barh', x='sex', y='cnt', legend=False)"
   ]
  },
  {
   "cell_type": "code",
   "execution_count": 127,
   "metadata": {
    "collapsed": false
   },
   "outputs": [
    {
     "data": {
      "text/plain": [
       "<matplotlib.axes._subplots.AxesSubplot at 0x111a60e50>"
      ]
     },
     "execution_count": 127,
     "metadata": {},
     "output_type": "execute_result"
    },
    {
     "data": {
      "image/png": "[encoded data removed]",
      "text/plain": [
       "<matplotlib.figure.Figure at 0x111cdfcd0>"
      ]
     },
     "metadata": {},
     "output_type": "display_data"
    }
   ],
   "source": [
    "survival = sqlContext.sql(\n",
    "    \"select pclass, 100*(SUM(CASE WHEN survived = 1 THEN 1 ELSE 0 END)/count(*)) survival_rate \\\n",
    "     from passengers \\\n",
    "     group by pclass\").toPandas()\n",
    "survival.plot(kind='barh', x='pclass', y='survival_rate', legend=False)"
   ]
  }
 ],
 "metadata": {
  "kernelspec": {
   "display_name": "Spark 1.6.0 (Python 2.7.11)",
   "language": "python",
   "name": "pyspark"
  },
  "language_info": {
   "codemirror_mode": {
    "name": "ipython",
    "version": 2
   },
   "file_extension": ".py",
   "mimetype": "text/x-python",
   "name": "python",
   "nbconvert_exporter": "python",
   "pygments_lexer": "ipython2",
   "version": "2.7.11"
  }
 },
 "nbformat": 4,
 "nbformat_minor": 0
}
