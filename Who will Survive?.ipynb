{
 "cells": [
  {
   "cell_type": "markdown",
   "metadata": {},
   "source": [
    "![Lifeboat](http://titanicwiki.com/wp-content/uploads/2012/03/lifeboat-around-Titanic.jpg)"
   ]
  },
  {
   "cell_type": "code",
   "execution_count": 1,
   "metadata": {
    "collapsed": false
   },
   "outputs": [
    {
     "data": {
      "text/plain": [
       "<pyspark.context.SparkContext at 0x7fae2c2a31d0>"
      ]
     },
     "execution_count": 1,
     "metadata": {},
     "output_type": "execute_result"
    }
   ],
   "source": [
    "import os\n",
    "os.environ['PYSPARK_SUBMIT_ARGS'] = \"--packages com.databricks:spark-csv_2.10:1.3.0 pyspark-shell\"\n",
    "\n",
    "from pyspark import SparkContext, SparkConf, StorageLevel\n",
    "from pyspark.sql import SQLContext, HiveContext\n",
    "import py4j\n",
    "from time import time\n",
    "\n",
    "conf = SparkConf().setAppName(\"SparkJupyterTitanic\") \\\n",
    "        .setMaster(\"yarn-client\") \\\n",
    "        .set(\"spark.executor.memory\", \"4g\") \\\n",
    "        .set(\"spark.executor.cores\", 3) \\\n",
    "        .set(\"spark.executor.instances\", 4) # 2 ==> 4\n",
    "        \n",
    "sc = SparkContext(conf=conf)\n",
    "\n",
    "try:\n",
    "    # Try to access HiveConf, it will raise exception if Hive is not added\n",
    "    sc._jvm.org.apache.hadoop.hive.conf.HiveConf()\n",
    "    sqlContext = HiveContext(sc)\n",
    "except py4j.protocol.Py4JError:\n",
    "    sqlContext = SQLContext(sc)\n",
    "except TypeError:\n",
    "    sqlContext = SQLContext(sc)\n",
    "sc"
   ]
  },
  {
   "cell_type": "code",
   "execution_count": 2,
   "metadata": {
    "collapsed": true
   },
   "outputs": [],
   "source": [
    "csv = \"s3n://ltsai/smu-talk-8mar2016/csv/titanic3.csv\" # 1.3K rows\n",
    "#csv = \"s3n://ltsai/smu-talk-8mar2016/csv/1.csv\" # There are 2 CSV, each is 1GB. ~13M rows \n",
    "#csv = \"s3n://ltsai/smu-talk-8mar2016/csv/*.csv\" "
   ]
  },
  {
   "cell_type": "code",
   "execution_count": 3,
   "metadata": {
    "collapsed": false
   },
   "outputs": [],
   "source": [
    "from pyspark.sql.types import *\n",
    "customSchema = StructType([StructField('pclass', StringType(), True),\n",
    "                           StructField('survived', IntegerType(), True),\n",
    "                           StructField('name', StringType(), True),\n",
    "                           StructField('sex', StringType(), True),\n",
    "                           StructField('age', StringType(), True),\n",
    "                           StructField('sibsp', IntegerType(), True),\n",
    "                           StructField('parch', IntegerType(), True),\n",
    "                           StructField('ticket', StringType(), True),\n",
    "                           StructField('fare', FloatType(), True),\n",
    "                           StructField('cabin', StringType(), True),\n",
    "                           StructField('embarked', StringType(), True),\n",
    "                           StructField('boat', StringType(), True),\n",
    "                           StructField('body', StringType(), True),\n",
    "                           StructField('home.dest', StringType(), True)])\n",
    "df = sqlContext.read.format('com.databricks.spark.csv'). \\\n",
    "        options(header='true', treatEmptyValuesAsNulls='true'). \\\n",
    "        load(csv, schema = customSchema)"
   ]
  },
  {
   "cell_type": "code",
   "execution_count": 4,
   "metadata": {
    "collapsed": false
   },
   "outputs": [],
   "source": [
    "train_df, test_df = df.select(\"survived\", \"pclass\", \"sibsp\", \"parch\").randomSplit([0.8, 0.2])"
   ]
  },
  {
   "cell_type": "code",
   "execution_count": 5,
   "metadata": {
    "collapsed": false
   },
   "outputs": [
    {
     "name": "stdout",
     "output_type": "stream",
     "text": [
      "20946346 5233654\n",
      "Time Taken 436.52 seconds\n"
     ]
    }
   ],
   "source": [
    "from pyspark.sql import Row\n",
    "from pyspark.mllib.linalg import Vectors\n",
    "\n",
    "ntrain = train_df.map(lambda x: Row(label = float(x[0]) \\\n",
    "         ,features = Vectors.dense(x[1:]))).toDF().persist(StorageLevel.MEMORY_AND_DISK) \n",
    "ntest = test_df.map(lambda x: Row(features = Vectors.dense(x[1:]))).toDF()\n",
    "\n",
    "from time import time\n",
    "t0 = time()\n",
    "print ntrain.count(), ntest.count()\n",
    "t1 = time()\n",
    "\n",
    "# 10471301 2618699\n",
    "# Time Taken 220.47 seconds (1 CSV)\n",
    "# Time Taken 436.52 seconds (2 CSV)\n",
    "\n",
    "# After scaling 6 => 12 cores\n",
    "# Time Taken 150.24 seconds (1 CSV)\n",
    "# Time Taken 227.63 seconds (2 CSV)\n",
    "print 'Time Taken ' + str(round(t1 - t0,2)) + ' seconds'"
   ]
  },
  {
   "cell_type": "code",
   "execution_count": 6,
   "metadata": {
    "collapsed": false
   },
   "outputs": [],
   "source": [
    "from pyspark.ml.classification import LogisticRegression\n",
    "lr = LogisticRegression(maxIter=100)"
   ]
  },
  {
   "cell_type": "code",
   "execution_count": 9,
   "metadata": {
    "collapsed": false
   },
   "outputs": [
    {
     "name": "stdout",
     "output_type": "stream",
     "text": [
      "Time Taken 59.59 seconds\n"
     ]
    }
   ],
   "source": [
    "t0 = time()\n",
    "model = lr.fit(ntrain)\n",
    "t1 = time()\n",
    "\n",
    "# Time Taken 18.55 seconds (1 CSV)\n",
    "# Time Taken 62.42 seconds (2 CSV)\n",
    "\n",
    "# After scaling 6 => 12 cores\n",
    "# Time Taken 23.35 seconds (1 CSV)\n",
    "# Time Taken 17.56 seconds (2 CSV)\n",
    "print 'Time Taken ' + str(round(t1 - t0,2)) + ' seconds'"
   ]
  },
  {
   "cell_type": "code",
   "execution_count": 10,
   "metadata": {
    "collapsed": false
   },
   "outputs": [
    {
     "name": "stderr",
     "output_type": "stream",
     "text": [
      "/usr/lib/spark/python/pyspark/ml/classification.py:207: UserWarning: weights is deprecated. Use coefficients instead.\n",
      "  warnings.warn(\"weights is deprecated. Use coefficients instead.\")\n"
     ]
    }
   ],
   "source": [
    "pred = model.transform(ntest)"
   ]
  },
  {
   "cell_type": "code",
   "execution_count": 11,
   "metadata": {
    "collapsed": false
   },
   "outputs": [
    {
     "data": {
      "text/plain": [
       "0.658456903370474"
      ]
     },
     "execution_count": 11,
     "metadata": {},
     "output_type": "execute_result"
    }
   ],
   "source": [
    "pred.where(\"prediction = 1.0\").count()/float(test_df.where(\"survived=1\").count())"
   ]
  },
  {
   "cell_type": "code",
   "execution_count": 19,
   "metadata": {
    "collapsed": true
   },
   "outputs": [],
   "source": [
    "sc.stop()"
   ]
  },
  {
   "cell_type": "code",
   "execution_count": 19,
   "metadata": {
    "collapsed": false
   },
   "outputs": [
    {
     "data": {
      "text/html": [
       "<div>\n",
       "<table border=\"1\" class=\"dataframe\">\n",
       "  <thead>\n",
       "    <tr style=\"text-align: right;\">\n",
       "      <th></th>\n",
       "      <th>12 cores</th>\n",
       "      <th>6 core</th>\n",
       "    </tr>\n",
       "  </thead>\n",
       "  <tbody>\n",
       "    <tr>\n",
       "      <th>read</th>\n",
       "      <td>62</td>\n",
       "      <td>436</td>\n",
       "    </tr>\n",
       "    <tr>\n",
       "      <th>lr.fit</th>\n",
       "      <td>17</td>\n",
       "      <td>227</td>\n",
       "    </tr>\n",
       "  </tbody>\n",
       "</table>\n",
       "</div>"
      ],
      "text/plain": [
       "        12 cores  6 core\n",
       "read          62     436\n",
       "lr.fit        17     227"
      ]
     },
     "execution_count": 19,
     "metadata": {},
     "output_type": "execute_result"
    }
   ],
   "source": [
    "import pandas as pd\n",
    "\n",
    "time_df = pd.DataFrame({'6 core' : [436,227], '12 cores' : [62,17]}, index=['read','lr.fit'])\n",
    "time_df"
   ]
  },
  {
   "cell_type": "code",
   "execution_count": 21,
   "metadata": {
    "collapsed": false
   },
   "outputs": [
    {
     "data": {
      "text/plain": [
       "<matplotlib.axes._subplots.AxesSubplot at 0x1142087d0>"
      ]
     },
     "execution_count": 21,
     "metadata": {},
     "output_type": "execute_result"
    },
    {
     "data": {
      "image/png": "[encoded data removed]",
      "text/plain": [
       "<matplotlib.figure.Figure at 0x114208b90>"
      ]
     },
     "metadata": {},
     "output_type": "display_data"
    }
   ],
   "source": [
    "%matplotlib inline\n",
    "time_df.plot(kind='bar')"
   ]
  }
 ],
 "metadata": {
  "kernelspec": {
   "display_name": "Spark 1.6.0 (Python 2.7.11)",
   "language": "python",
   "name": "pyspark"
  },
  "language_info": {
   "codemirror_mode": {
    "name": "ipython",
    "version": 2
   },
   "file_extension": ".py",
   "mimetype": "text/x-python",
   "name": "python",
   "nbconvert_exporter": "python",
   "pygments_lexer": "ipython2",
   "version": "2.7.11"
  }
 },
 "nbformat": 4,
 "nbformat_minor": 0
}
