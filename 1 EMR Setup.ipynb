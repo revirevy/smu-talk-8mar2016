{
 "cells": [
  {
   "cell_type": "markdown",
   "metadata": {
    "collapsed": true,
    "slideshow": {
     "slide_type": "slide"
    }
   },
   "source": [
    "# EMR Hands-On Setup\n",
    "\n",
    "* You will need your AWS Access Key ID and Secret Access Key\n",
    "* You will need to have a default SSH key pair configured for AWS instances"
   ]
  },
  {
   "cell_type": "markdown",
   "metadata": {
    "slideshow": {
     "slide_type": "slide"
    }
   },
   "source": [
    "# Step 1\n",
    "\n",
    "SSH into an EC2 instance that I have prepared\n",
    "\n",
    "````$ ssh smu@<I_WILL_GIVE_YOU_THE_IP>````\n",
    "\n",
    "Password is `smutalk`"
   ]
  },
  {
   "cell_type": "markdown",
   "metadata": {
    "slideshow": {
     "slide_type": "slide"
    }
   },
   "source": [
    "# Step 2a\n",
    "\n",
    "* Login to AWS Console and choose Singapore region\n",
    "\n",
    "![](images/Screen Shot 2016-03-07 at 8.41.22 pm.png)"
   ]
  },
  {
   "cell_type": "markdown",
   "metadata": {
    "slideshow": {
     "slide_type": "slide"
    }
   },
   "source": [
    "# Step 2b\n",
    "\n",
    "Have your AWS ACCESS KEY and ACCESS KEY ID ready. Otherwise, we will just create a new IAM user for this session.\n",
    "\n",
    "* Create an user under the IAM service and not down the keys.\n",
    "* Attach the AdministratorAccess Policy to this user\n",
    "\n",
    "![](images/Screen Shot 2016-03-07 at 8.11.47 pm.png)\n",
    "\n",
    "\n",
    "\n",
    "\n"
   ]
  },
  {
   "cell_type": "markdown",
   "metadata": {
    "slideshow": {
     "slide_type": "subslide"
    }
   },
   "source": [
    "![](images/Screen Shot 2016-03-07 at 8.12.18 pm.png)"
   ]
  },
  {
   "cell_type": "markdown",
   "metadata": {
    "slideshow": {
     "slide_type": "subslide"
    }
   },
   "source": [
    "![](images/Screen Shot 2016-03-07 at 8.12.34 pm.png)"
   ]
  },
  {
   "cell_type": "markdown",
   "metadata": {
    "slideshow": {
     "slide_type": "slide"
    }
   },
   "source": [
    "# Step 2c\n",
    "\n",
    "Do you have a key pair for your EC2 instances? Either create one or upload your existing public key under EC2 services. For Windows PuTTY users, you can read [here](http://docs.aws.amazon.com/AWSEC2/latest/UserGuide/putty.html).\n",
    "\n",
    "![](images/Screen Shot 2016-03-07 at 8.25.27 pm.png)\n",
    "\n"
   ]
  },
  {
   "cell_type": "markdown",
   "metadata": {
    "slideshow": {
     "slide_type": "slide"
    }
   },
   "source": [
    "# Step 2d\n",
    "\n",
    "Export your **AWS credentials**, **Key pair name** and run my **setup.sh** script to create an EMR cluster of 1 Master + 2 Slaves using c3.xlarge instance type.\n",
    "\n",
    "The script will use Spot instances. The max bid price (Default is $0.01 above current spot price) can be configured in `conf/config`.\n",
    "\n",
    "<font style=\"font-size: 80%;\">\n",
    "````\n",
    "$ export AWS_SECRET_ACCESS_KEY=<AWS_SECRET_ACCESS_KEY>\n",
    "$ export AWS_ACCESS_KEY_ID=<AWS_ACCESS_KEY_ID>\n",
    "$ export AWS_KEY_PAIR_NAME=<YOUR_AWS_KEY_PAIR_TO_USE>\n",
    "\n",
    "$ cd smu-talk-8mar2016/bin\n",
    "$ ./setup.sh\n",
    "\n",
    "````\n",
    "</font>"
   ]
  },
  {
   "cell_type": "markdown",
   "metadata": {
    "slideshow": {
     "slide_type": "slide"
    }
   },
   "source": [
    "# Step 3\n",
    "\n",
    "1. Go to your AWS Web Console\n",
    "1. Under EMR service and find the EMR cluster\n",
    "1. Click on it and note down the Master public DNS name. The DNS name will not appear immediately until the cluster is up.\n",
    "\n",
    "![](images/Screen Shot 2016-03-07 at 8.34.25 pm.png)\n"
   ]
  },
  {
   "cell_type": "markdown",
   "metadata": {
    "slideshow": {
     "slide_type": "subslide"
    }
   },
   "source": [
    "![](images/Screen Shot 2016-03-07 at 10.02.20 am.png)"
   ]
  },
  {
   "cell_type": "markdown",
   "metadata": {
    "slideshow": {
     "slide_type": "slide"
    }
   },
   "source": [
    "# Step 4\n",
    "\n",
    "Configure your browser by enabling the web connection using a proxy. Follow the AWS instructions \"Enable Web Connection\".\n",
    "\n",
    "![](images/Screen Shot 2016-03-07 at 10.02.20 am.png)\n",
    "\n",
    "After configuring, you will be able to view the various Hadoop services. Click on Resource Manager to view YARN resources.\n",
    "\n",
    "![](images/Screen Shot 2016-03-07 at 10.17.52 am.png)\n"
   ]
  },
  {
   "cell_type": "markdown",
   "metadata": {
    "slideshow": {
     "slide_type": "slide"
    }
   },
   "source": [
    "# Step 5\n",
    "\n",
    "Once the cluster is up (takes up to 10mins), login to master node.\n",
    "\n",
    "````\n",
    "$ ssh -i /path/to/your/private/key.pem hadoop@<MASTER_PUBLIC_DNS>\n",
    "````\n",
    "\n",
    "And run Jupyter:\n",
    "````\n",
    "$ ./start-jupyter.sh \n",
    "````\n",
    "\n",
    "You can now access Jupyter on `https://<MASTER_PUBLIC_DNS>:8888`. Password is sfvhxj7d"
   ]
  }
 ],
 "metadata": {
  "celltoolbar": "Slideshow",
  "kernelspec": {
   "display_name": "Python 2",
   "language": "python",
   "name": "python2"
  },
  "language_info": {
   "codemirror_mode": {
    "name": "ipython",
    "version": 2
   },
   "file_extension": ".py",
   "mimetype": "text/x-python",
   "name": "python",
   "nbconvert_exporter": "python",
   "pygments_lexer": "ipython2",
   "version": "2.7.11"
  }
 },
 "nbformat": 4,
 "nbformat_minor": 0
}
