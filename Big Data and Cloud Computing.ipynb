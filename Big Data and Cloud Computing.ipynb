{
 "cells": [
  {
   "cell_type": "markdown",
   "metadata": {
    "slideshow": {
     "slide_type": "slide"
    }
   },
   "source": [
    "# Big Data and Cloud Computing\n",
    "\n",
    "By [Tsai Li Ming](https://about.me/tsailiming)  \n",
    "8 March 2016 @ SMU \n",
    "\n",
    "<div style=\"font-size: 50%;\"> Source: https://github.com/tsailiming/smu-talk-8mar2016</div>\n",
    "\n"
   ]
  },
  {
   "cell_type": "markdown",
   "metadata": {
    "slideshow": {
     "slide_type": "slide"
    }
   },
   "source": [
    "# About Me\n",
    "\n",
    "* Software Engineer | etc\n",
    "* Focus on Big Data and Cloud Computing\n",
    "* Python User Group Singapore"
   ]
  },
  {
   "cell_type": "markdown",
   "metadata": {
    "slideshow": {
     "slide_type": "slide"
    }
   },
   "source": [
    "# What is Cloud Computing\n",
    "\n",
    "> Cloud computing, also on-demand computing, is a kind of Internet-based computing that provides shared processing resources and data to computers and other devices on demand. (Wikipedia)"
   ]
  },
  {
   "cell_type": "markdown",
   "metadata": {
    "slideshow": {
     "slide_type": "subslide"
    }
   },
   "source": [
    "* Servers\n",
    "* Networking\n",
    "* Storage\n",
    "* Software\n",
    "* Virtualized\n",
    "* Managed "
   ]
  },
  {
   "cell_type": "markdown",
   "metadata": {
    "slideshow": {
     "slide_type": "subslide"
    }
   },
   "source": [
    "![](https://i.imgur.com/grMHW4F.png)"
   ]
  },
  {
   "cell_type": "markdown",
   "metadata": {
    "slideshow": {
     "slide_type": "subslide"
    }
   },
   "source": [
    "![](http://knowledgeblob.com/wp-content/uploads/2015/06/cloud-stack.png)"
   ]
  },
  {
   "cell_type": "markdown",
   "metadata": {
    "slideshow": {
     "slide_type": "subslide"
    }
   },
   "source": [
    "# Who are the players?\n",
    "\n",
    "![](https://s-media-cache-ak0.pinimg.com/736x/8d/f4/68/8df468385e2bc959a4b9d7b33e757789.jpg)"
   ]
  },
  {
   "cell_type": "markdown",
   "metadata": {
    "slideshow": {
     "slide_type": "subslide"
    }
   },
   "source": [
    "## Public and Private Cloud? Hybrid? \n",
    "\n",
    "![](https://upload.wikimedia.org/wikipedia/commons/8/87/Cloud_computing_types.svg)\n"
   ]
  },
  {
   "cell_type": "markdown",
   "metadata": {
    "slideshow": {
     "slide_type": "slide"
    }
   },
   "source": [
    "# Scaling Up vs Out \n",
    "\n",
    "* CPU? Memory? Storage? Network?\n",
    "* Vertically up\n",
    "* Horizontally across\n",
    "* Issues? Limitations? "
   ]
  },
  {
   "cell_type": "markdown",
   "metadata": {
    "slideshow": {
     "slide_type": "subslide"
    }
   },
   "source": [
    "## Scaling Your Code\n",
    "* Parallel Programming\n",
    "* Distributed Computing"
   ]
  },
  {
   "cell_type": "markdown",
   "metadata": {
    "slideshow": {
     "slide_type": "slide"
    }
   },
   "source": [
    "![](https://upload.wikimedia.org/wikipedia/commons/4/46/BigData_2267x1146_white.png)"
   ]
  },
  {
   "cell_type": "markdown",
   "metadata": {
    "slideshow": {
     "slide_type": "subslide"
    }
   },
   "source": [
    "## 3 Vs of Big Data?"
   ]
  },
  {
   "cell_type": "markdown",
   "metadata": {
    "slideshow": {
     "slide_type": "subslide"
    }
   },
   "source": [
    "### Volume\n",
    "The quantity of generated and stored data. The size of the data determines the value and potential insight- and whether it can actually be considered big data or not.\n",
    "### Variety\n",
    "The type and nature of the data. This helps people who analyze it to effectively use the resulting insight.\n",
    "### Velocity\n",
    "In this context, the speed at which the data is generated and processed to meet the demands and challenges that lie in the path of growth and development."
   ]
  },
  {
   "cell_type": "markdown",
   "metadata": {
    "slideshow": {
     "slide_type": "subslide"
    }
   },
   "source": [
    "### Variability\n",
    "Inconsistency of the data set can hamper processes to handle and manage it.\n",
    "\n",
    "### Veracity\n",
    "The quality of captured data can vary greatly, affecting accurate analysis."
   ]
  },
  {
   "cell_type": "markdown",
   "metadata": {
    "slideshow": {
     "slide_type": "subslide"
    }
   },
   "source": [
    "## Examples of Big Data"
   ]
  },
  {
   "cell_type": "markdown",
   "metadata": {
    "slideshow": {
     "slide_type": "subslide"
    }
   },
   "source": [
    "## Why is it Hard?"
   ]
  },
  {
   "cell_type": "markdown",
   "metadata": {
    "slideshow": {
     "slide_type": "subslide"
    }
   },
   "source": [
    "## Making Sense of the Data"
   ]
  },
  {
   "cell_type": "markdown",
   "metadata": {
    "slideshow": {
     "slide_type": "subslide"
    }
   },
   "source": [
    "## Hadoop Ecosystem\n",
    "\n",
    "![](http://hortonworks.com/wp-content/uploads/2016/02/asparagus-chart-hdp24.jpg)\n",
    "<div style=\"font-size: 50%;\">Source: Hortonworks</Div>\n",
    "\n",
    "More Info: https://hadoopecosystemtable.github.io/"
   ]
  },
  {
   "cell_type": "markdown",
   "metadata": {
    "slideshow": {
     "slide_type": "slide"
    }
   },
   "source": [
    "# Break for 5-10 mins?"
   ]
  }
 ],
 "metadata": {
  "celltoolbar": "Slideshow",
  "kernelspec": {
   "display_name": "Python 2",
   "language": "python",
   "name": "python2"
  },
  "language_info": {
   "codemirror_mode": {
    "name": "ipython",
    "version": 2
   },
   "file_extension": ".py",
   "mimetype": "text/x-python",
   "name": "python",
   "nbconvert_exporter": "python",
   "pygments_lexer": "ipython2",
   "version": "2.7.11"
  }
 },
 "nbformat": 4,
 "nbformat_minor": 0
}
