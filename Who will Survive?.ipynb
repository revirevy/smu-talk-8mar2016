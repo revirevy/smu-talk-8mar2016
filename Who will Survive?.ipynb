{
 "cells": [
  {
   "cell_type": "markdown",
   "metadata": {},
   "source": [
    "![Lifeboat](http://titanicwiki.com/wp-content/uploads/2012/03/lifeboat-around-Titanic.jpg)"
   ]
  },
  {
   "cell_type": "code",
   "execution_count": 1,
   "metadata": {
    "collapsed": false
   },
   "outputs": [
    {
     "data": {
      "text/plain": [
       "<pyspark.context.SparkContext at 0x10aaefb10>"
      ]
     },
     "execution_count": 1,
     "metadata": {},
     "output_type": "execute_result"
    }
   ],
   "source": [
    "sc"
   ]
  },
  {
   "cell_type": "code",
   "execution_count": 2,
   "metadata": {
    "collapsed": true
   },
   "outputs": [],
   "source": [
    "csv = '/Users/ltsai/Downloads/titanic3.csv'"
   ]
  },
  {
   "cell_type": "code",
   "execution_count": 3,
   "metadata": {
    "collapsed": true
   },
   "outputs": [],
   "source": [
    "from pyspark.sql.types import *\n",
    "customSchema = StructType([StructField('pclass', StringType(), True),\n",
    "                           StructField('survived', IntegerType(), True),\n",
    "                           StructField('name', StringType(), True),\n",
    "                           StructField('sex', StringType(), True),\n",
    "                           StructField('age', StringType(), True),\n",
    "                           StructField('sibsp', IntegerType(), True),\n",
    "                           StructField('parch', IntegerType(), True),\n",
    "                           StructField('ticket', StringType(), True),\n",
    "                           StructField('fare', FloatType(), True),\n",
    "                           StructField('cabin', StringType(), True),\n",
    "                           StructField('embarked', StringType(), True),\n",
    "                           StructField('boat', StringType(), True),\n",
    "                           StructField('body', StringType(), True),\n",
    "                           StructField('home.dest', StringType(), True)])\n",
    "df = sqlContext.read.format('com.databricks.spark.csv'). \\\n",
    "        options(header='true', treatEmptyValuesAsNulls='true'). \\\n",
    "        load(csv, schema = customSchema)\n",
    "df.registerTempTable(\"passengers\")\n",
    "sqlContext.cacheTable(\"passengers\") "
   ]
  },
  {
   "cell_type": "code",
   "execution_count": 19,
   "metadata": {
    "collapsed": false
   },
   "outputs": [
    {
     "data": {
      "text/plain": [
       "(1063, 246)"
      ]
     },
     "execution_count": 19,
     "metadata": {},
     "output_type": "execute_result"
    }
   ],
   "source": [
    "train_df, test_df = df.select(\"survived\", \"pclass\", \"age\").randomSplit([0.8, 0.2])\n",
    "train_df.count(),test_df.count()"
   ]
  },
  {
   "cell_type": "code",
   "execution_count": 24,
   "metadata": {
    "collapsed": false
   },
   "outputs": [],
   "source": [
    "from pyspark.sql import Row\n",
    "from pyspark.mllib.linalg import Vectors\n",
    "\n",
    "ntrain = train_df.map(lambda x: Row(label = float(x[0]) \\\n",
    "         ,features = Vectors.dense(x[1:]))).toDF().cache() "
   ]
  },
  {
   "cell_type": "code",
   "execution_count": 25,
   "metadata": {
    "collapsed": false
   },
   "outputs": [
    {
     "data": {
      "text/plain": [
       "LogisticRegression_441285f6e8b232f72485"
      ]
     },
     "execution_count": 25,
     "metadata": {},
     "output_type": "execute_result"
    }
   ],
   "source": [
    "from pyspark.ml.classification import LogisticRegression\n",
    "\n",
    "lr = LogisticRegression(maxIter = 100, regParam = 0.1)\n",
    "lr.fit(ntrain)"
   ]
  }
 ],
 "metadata": {
  "kernelspec": {
   "display_name": "Spark 1.6.0 (Python 2.7.11)",
   "language": "python",
   "name": "pyspark"
  },
  "language_info": {
   "codemirror_mode": {
    "name": "ipython",
    "version": 2
   },
   "file_extension": ".py",
   "mimetype": "text/x-python",
   "name": "python",
   "nbconvert_exporter": "python",
   "pygments_lexer": "ipython2",
   "version": "2.7.11"
  }
 },
 "nbformat": 4,
 "nbformat_minor": 0
}
