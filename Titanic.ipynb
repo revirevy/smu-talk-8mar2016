{
 "cells": [
  {
   "cell_type": "markdown",
   "metadata": {},
   "source": [
    "![Titanic](https://upload.wikimedia.org/wikipedia/commons/3/38/RMS_Titanic_4.jpg)"
   ]
  },
  {
   "cell_type": "code",
   "execution_count": 1,
   "metadata": {
    "collapsed": false
   },
   "outputs": [
    {
     "data": {
      "text/plain": [
       "<pyspark.context.SparkContext at 0x10eaf3210>"
      ]
     },
     "execution_count": 1,
     "metadata": {},
     "output_type": "execute_result"
    }
   ],
   "source": [
    "import os\n",
    "os.environ['PYSPARK_SUBMIT_ARGS'] = \"--packages com.databricks:spark-csv_2.10:1.3.0 pyspark-shell\"\n",
    "\n",
    "from pyspark import SparkContext, SparkConf\n",
    "from pyspark.sql import SQLContext, HiveContext\n",
    "import py4j\n",
    "\n",
    "conf = SparkConf().setAppName(\"SparkJupyterTitanic\").setMaster(\"local[2]\")\n",
    "sc = SparkContext(conf=conf)\n",
    "\n",
    "try:\n",
    "    # Try to access HiveConf, it will raise exception if Hive is not added\n",
    "    sc._jvm.org.apache.hadoop.hive.conf.HiveConf()\n",
    "    sqlContext = HiveContext(sc)\n",
    "except py4j.protocol.Py4JError:\n",
    "    sqlContext = SQLContext(sc)\n",
    "except TypeError:\n",
    "    sqlContext = SQLContext(sc)\n",
    "sc"
   ]
  },
  {
   "cell_type": "code",
   "execution_count": 2,
   "metadata": {
    "collapsed": true
   },
   "outputs": [],
   "source": [
    "csv = \"/Users/ltsai/Downloads/titanic3.csv\""
   ]
  },
  {
   "cell_type": "markdown",
   "metadata": {},
   "source": [
    "[Dataset Information](http://biostat.mc.vanderbilt.edu/wiki/pub/Main/DataSets/titanic3info.txt)"
   ]
  },
  {
   "cell_type": "code",
   "execution_count": 3,
   "metadata": {
    "collapsed": false
   },
   "outputs": [
    {
     "data": {
      "text/plain": [
       "1309"
      ]
     },
     "execution_count": 3,
     "metadata": {},
     "output_type": "execute_result"
    }
   ],
   "source": [
    "from pyspark.sql.types import *\n",
    "customSchema = StructType([StructField('pclass', StringType(), True),\n",
    "                           StructField('survived', IntegerType(), True),\n",
    "                           StructField('name', StringType(), True),\n",
    "                           StructField('sex', StringType(), True),\n",
    "                           StructField('age', StringType(), True),\n",
    "                           StructField('sibsp', IntegerType(), True),\n",
    "                           StructField('parch', IntegerType(), True),\n",
    "                           StructField('ticket', StringType(), True),\n",
    "                           StructField('fare', FloatType(), True),\n",
    "                           StructField('cabin', StringType(), True),\n",
    "                           StructField('embarked', StringType(), True),\n",
    "                           StructField('boat', StringType(), True),\n",
    "                           StructField('body', StringType(), True),\n",
    "                           StructField('home.dest', StringType(), True)])\n",
    "df = sqlContext.read.format('com.databricks.spark.csv'). \\\n",
    "        options(header='true', treatEmptyValuesAsNulls='true'). \\\n",
    "        load(csv, schema = customSchema)\n",
    "df.registerTempTable(\"passengers\")\n",
    "sqlContext.cacheTable(\"passengers\") \n",
    "df.count()"
   ]
  },
  {
   "cell_type": "code",
   "execution_count": 4,
   "metadata": {
    "collapsed": false
   },
   "outputs": [
    {
     "name": "stdout",
     "output_type": "stream",
     "text": [
      "root\n",
      " |-- pclass: string (nullable = true)\n",
      " |-- survived: integer (nullable = true)\n",
      " |-- name: string (nullable = true)\n",
      " |-- sex: string (nullable = true)\n",
      " |-- age: string (nullable = true)\n",
      " |-- sibsp: integer (nullable = true)\n",
      " |-- parch: integer (nullable = true)\n",
      " |-- ticket: string (nullable = true)\n",
      " |-- fare: float (nullable = true)\n",
      " |-- cabin: string (nullable = true)\n",
      " |-- embarked: string (nullable = true)\n",
      " |-- boat: string (nullable = true)\n",
      " |-- body: string (nullable = true)\n",
      " |-- home.dest: string (nullable = true)\n",
      "\n"
     ]
    }
   ],
   "source": [
    "df.printSchema()"
   ]
  },
  {
   "cell_type": "code",
   "execution_count": 5,
   "metadata": {
    "collapsed": false
   },
   "outputs": [
    {
     "data": {
      "text/plain": [
       "[Row(_c0=29.881137667304014)]"
      ]
     },
     "execution_count": 5,
     "metadata": {},
     "output_type": "execute_result"
    }
   ],
   "source": [
    "sqlContext.sql(\"select mean(age)from passengers\").collect()"
   ]
  },
  {
   "cell_type": "code",
   "execution_count": 6,
   "metadata": {
    "collapsed": true
   },
   "outputs": [],
   "source": [
    "%matplotlib inline"
   ]
  },
  {
   "cell_type": "code",
   "execution_count": 7,
   "metadata": {
    "collapsed": false
   },
   "outputs": [
    {
     "data": {
      "text/plain": [
       "<matplotlib.axes._subplots.AxesSubplot at 0x110937d90>"
      ]
     },
     "execution_count": 7,
     "metadata": {},
     "output_type": "execute_result"
    },
    {
     "data": {
      "image/png": "[encoded data removed]",
      "text/plain": [
       "<matplotlib.figure.Figure at 0x110937610>"
      ]
     },
     "metadata": {},
     "output_type": "display_data"
    }
   ],
   "source": [
    "survival = sqlContext.sql(\"select sex, count(survived) as cnt from passengers where survived=1 group by sex\").toPandas()\n",
    "survival.plot(kind='barh', x='sex', y='cnt', legend=False)"
   ]
  },
  {
   "cell_type": "code",
   "execution_count": 8,
   "metadata": {
    "collapsed": false
   },
   "outputs": [
    {
     "data": {
      "text/plain": [
       "<matplotlib.axes._subplots.AxesSubplot at 0x110a33a90>"
      ]
     },
     "execution_count": 8,
     "metadata": {},
     "output_type": "execute_result"
    },
    {
     "data": {
      "image/png": "[encoded data removed]",
      "text/plain": [
       "<matplotlib.figure.Figure at 0x11099d750>"
      ]
     },
     "metadata": {},
     "output_type": "display_data"
    }
   ],
   "source": [
    "survival = sqlContext.sql(\n",
    "    \"select pclass, 100*(SUM(CASE WHEN survived = 1 THEN 1 ELSE 0 END)/count(*)) survival_rate \\\n",
    "     from passengers \\\n",
    "     group by pclass\").toPandas()\n",
    "survival.plot(kind='barh', x='pclass', y='survival_rate', legend=False)"
   ]
  },
  {
   "cell_type": "code",
   "execution_count": 9,
   "metadata": {
    "collapsed": false
   },
   "outputs": [
    {
     "data": {
      "image/png": "[encoded data removed]",
      "text/plain": [
       "<matplotlib.figure.Figure at 0x110b893d0>"
      ]
     },
     "metadata": {},
     "output_type": "display_data"
    }
   ],
   "source": [
    "survival = sqlContext.sql(\"\"\"SELECT \n",
    "                            (CASE \n",
    "                                 WHEN age <= 12 THEN 'child' \n",
    "                                 WHEN age > 12 THEN 'adult' \n",
    "                             END) age_group,\n",
    "                             survived                           \n",
    "                           from passengers \n",
    "                           where age is not null\"\"\")\n",
    "survivors = survival.where(survival.survived==1).groupBy(\"age_group\").count().toPandas()\n",
    "non_survivors = survival.where(survival.survived==0).groupBy(\"age_group\").count().toPandas()\n",
    "\n",
    "import matplotlib.pyplot as plt\n",
    "import numpy as np\n",
    "\n",
    "ind = np.arange(2)\n",
    "width = 0.35    \n",
    "\n",
    "p1 = plt.bar(ind, non_survivors['count'], width, color = 'r')\n",
    "p2 = plt.bar(ind, survivors['count'], width, color = 'b', bottom=non_survivors['count'])\n",
    "plt.xticks(ind + width/2., survivors['age_group'])\n",
    "plt.legend((p1[0], p2[0]), ('Non Survivors', 'Survivors'))\n",
    "\n",
    "plt.show()"
   ]
  },
  {
   "cell_type": "code",
   "execution_count": 10,
   "metadata": {
    "collapsed": true
   },
   "outputs": [],
   "source": [
    "sc.stop()"
   ]
  },
  {
   "cell_type": "markdown",
   "metadata": {},
   "source": [
    "[Sample Tableau dashboard](https://public.tableau.com/views/TitanicDashboards/SurvivalontheTitanicbyAgeGenderClassFare?:embed=y&:display_count=yes&:showTabs=y)"
   ]
  }
 ],
 "metadata": {
  "kernelspec": {
   "display_name": "Spark 1.6.0 (Python 2.7.11)",
   "language": "python",
   "name": "pyspark"
  },
  "language_info": {
   "codemirror_mode": {
    "name": "ipython",
    "version": 2
   },
   "file_extension": ".py",
   "mimetype": "text/x-python",
   "name": "python",
   "nbconvert_exporter": "python",
   "pygments_lexer": "ipython2",
   "version": "2.7.11"
  }
 },
 "nbformat": 4,
 "nbformat_minor": 0
}
