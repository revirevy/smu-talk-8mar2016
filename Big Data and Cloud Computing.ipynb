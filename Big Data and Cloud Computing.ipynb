{
 "cells": [
  {
   "cell_type": "markdown",
   "metadata": {
    "slideshow": {
     "slide_type": "slide"
    }
   },
   "source": [
    "# Big Data and Cloud Computing\n",
    "\n",
    "By [Tsai Li Ming](https://about.me/tsailiming)  \n",
    "8 March 2016 @ SMU \n",
    "\n",
    "<p><div style=\"font-size: 75%;\"> Source: https://github.com/tsailiming/smu-talk-8mar2016</div>\n",
    "\n"
   ]
  },
  {
   "cell_type": "markdown",
   "metadata": {
    "slideshow": {
     "slide_type": "slide"
    }
   },
   "source": [
    "# About Me\n",
    "\n",
    "* Software Engineer | Solution Architect\n",
    "* Focus on Big Data and Cloud Computing\n",
    "* Python User Group Singapore (Submit a talk for PyCon SG 2016!)"
   ]
  },
  {
   "cell_type": "markdown",
   "metadata": {
    "slideshow": {
     "slide_type": "slide"
    }
   },
   "source": [
    "# What is Cloud Computing\n",
    "\n",
    "> Cloud computing, also on-demand computing, is a kind of Internet-based computing that provides shared processing resources and data to computers and other devices on demand. (Wikipedia)"
   ]
  },
  {
   "cell_type": "markdown",
   "metadata": {
    "slideshow": {
     "slide_type": "subslide"
    }
   },
   "source": [
    "* Servers\n",
    "* Networking\n",
    "* Storage\n",
    "* Software\n",
    "* Virtualized\n",
    "* Managed "
   ]
  },
  {
   "cell_type": "markdown",
   "metadata": {
    "slideshow": {
     "slide_type": "subslide"
    }
   },
   "source": [
    "![](images/grMHW4F.png)"
   ]
  },
  {
   "cell_type": "markdown",
   "metadata": {
    "slideshow": {
     "slide_type": "subslide"
    }
   },
   "source": [
    "![](images/cloud-stack.png)"
   ]
  },
  {
   "cell_type": "markdown",
   "metadata": {
    "slideshow": {
     "slide_type": "subslide"
    }
   },
   "source": [
    "# Who are the players?\n",
    "\n",
    "![](images/8df468385e2bc959a4b9d7b33e757789.jpg)"
   ]
  },
  {
   "cell_type": "markdown",
   "metadata": {
    "slideshow": {
     "slide_type": "subslide"
    }
   },
   "source": [
    "## Public and Private Cloud? Hybrid? \n",
    "\n",
    "![](images/Cloud_computing_types.svg)\n"
   ]
  },
  {
   "cell_type": "markdown",
   "metadata": {
    "slideshow": {
     "slide_type": "slide"
    }
   },
   "source": [
    "![](images/BigData_2267x1146_white.png)"
   ]
  },
  {
   "cell_type": "markdown",
   "metadata": {
    "slideshow": {
     "slide_type": "subslide"
    }
   },
   "source": [
    "## 3 Vs of Big Data?"
   ]
  },
  {
   "cell_type": "markdown",
   "metadata": {
    "slideshow": {
     "slide_type": "subslide"
    }
   },
   "source": [
    "### Volume\n",
    "The quantity of generated and stored data. The size of the data determines the value and potential insight- and whether it can actually be considered big data or not.\n",
    "### Variety\n",
    "The type and nature of the data. This helps people who analyze it to effectively use the resulting insight.\n",
    "### Velocity\n",
    "In this context, the speed at which the data is generated and processed to meet the demands and challenges that lie in the path of growth and development."
   ]
  },
  {
   "cell_type": "markdown",
   "metadata": {
    "slideshow": {
     "slide_type": "subslide"
    }
   },
   "source": [
    "### Variability\n",
    "Inconsistency of the data set can hamper processes to handle and manage it.\n",
    "\n",
    "### Veracity\n",
    "The quality of captured data can vary greatly, affecting accurate analysis."
   ]
  },
  {
   "cell_type": "markdown",
   "metadata": {
    "slideshow": {
     "slide_type": "subslide"
    }
   },
   "source": [
    "## Where is the Data Coming From?\n",
    "\n",
    "\n",
    "| Computers        | Human   |\n",
    "| ------------- |-----------|\n",
    "| <ul><li>Sensors</li><li>Images</li><li>Videos</li><li>M2M</li></ul> | <ul><li>Social Network</li><li>Wearables</li><li>Emails</li><li>Documents</li>"
   ]
  },
  {
   "cell_type": "markdown",
   "metadata": {
    "slideshow": {
     "slide_type": "subslide"
    }
   },
   "source": [
    "## Digital Data Explosion\n",
    "\n",
    "![](images/Screen+Shot+2013-10-26+at+7.56.52+PM.png)"
   ]
  },
  {
   "cell_type": "markdown",
   "metadata": {
    "slideshow": {
     "slide_type": "subslide"
    }
   },
   "source": [
    "## Making Sense of the Data\n",
    "\n",
    "* What Happend? => BI, Reporting, Visualization\n",
    "* To Explain => Machine learning, Data mining \n",
    "* To Forecast => Predictive, Forecasting"
   ]
  },
  {
   "cell_type": "markdown",
   "metadata": {
    "slideshow": {
     "slide_type": "subslide"
    }
   },
   "source": [
    "## Use Case: Aviation\n",
    "![](images/PlaneBigData.png)"
   ]
  },
  {
   "cell_type": "markdown",
   "metadata": {
    "slideshow": {
     "slide_type": "subslide"
    }
   },
   "source": [
    "## Beneifts of Analytics\n",
    "\n",
    "\n",
    "Analyzing data => Predictive Maintenance => Preventive Maintenance => Increase customer satisfaction, better fuel efficiency, etc\n"
   ]
  },
  {
   "cell_type": "markdown",
   "metadata": {
    "slideshow": {
     "slide_type": "subslide"
    }
   },
   "source": [
    "## Hadoop Ecosystem\n",
    "\n",
    "![](images/asparagus-chart-hdp24.jpg)\n",
    "<p><div style=\"font-size: 75%;\">Source: Hortonworks</Div>\n",
    "\n",
    "More Info: https://hadoopecosystemtable.github.io/"
   ]
  },
  {
   "cell_type": "markdown",
   "metadata": {
    "slideshow": {
     "slide_type": "slide"
    }
   },
   "source": [
    "# Scaling Up vs Out \n",
    "\n",
    "* CPU? Memory? Storage? Network?\n",
    "* Vertically up\n",
    "* Horizontally across\n",
    "* Issues? Limitations? "
   ]
  },
  {
   "cell_type": "markdown",
   "metadata": {
    "slideshow": {
     "slide_type": "subslide"
    }
   },
   "source": [
    "## Scaling Your Code\n",
    "* Parallel Programming\n",
    "* Distributed Computing"
   ]
  },
  {
   "cell_type": "markdown",
   "metadata": {
    "slideshow": {
     "slide_type": "subslide"
    }
   },
   "source": [
    "## Amazon Elastic MapReduce (EMR)\n",
    "* Managed Platform\n",
    "* MapReduce, Apache Spark, Hive, etc\n",
    "* Launch a cluster in minutes\n",
    "* Open source distribution or MapR\n",
    "* Elasticity of EC2 (Pay by the hour or Spot instances)\n",
    "\n",
    "https://aws.amazon.com/elasticmapreduce/"
   ]
  },
  {
   "cell_type": "markdown",
   "metadata": {
    "slideshow": {
     "slide_type": "subslide"
    }
   },
   "source": [
    "## Benefits of Elasticity \n",
    "\n",
    "![](images/6da23f.png)\n",
    "\n",
    "<p><div style=\"font-size: 75%;\">Source: Amazon"
   ]
  },
  {
   "cell_type": "markdown",
   "metadata": {
    "slideshow": {
     "slide_type": "subslide"
    }
   },
   "source": [
    "## Hadoop Applications on EMR\n",
    "\n",
    "* Apache Hadoop\n",
    "* Apache Hive\n",
    "* Apache Mahout\n",
    "* Apache Pig\n",
    "* Apache Spark\n",
    "* Hue\n",
    "* Ganglia\n",
    "* Any many more"
   ]
  },
  {
   "cell_type": "markdown",
   "metadata": {
    "slideshow": {
     "slide_type": "slide"
    }
   },
   "source": [
    "# Break for 5-10 mins?"
   ]
  }
 ],
 "metadata": {
  "celltoolbar": "Slideshow",
  "kernelspec": {
   "display_name": "Python 2",
   "language": "python",
   "name": "python2"
  },
  "language_info": {
   "codemirror_mode": {
    "name": "ipython",
    "version": 2
   },
   "file_extension": ".py",
   "mimetype": "text/x-python",
   "name": "python",
   "nbconvert_exporter": "python",
   "pygments_lexer": "ipython2",
   "version": "2.7.11"
  }
 },
 "nbformat": 4,
 "nbformat_minor": 0
}
